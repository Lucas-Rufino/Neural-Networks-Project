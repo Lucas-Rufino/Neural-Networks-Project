{
 "cells": [
  {
   "cell_type": "code",
   "execution_count": null,
   "metadata": {
    "collapsed": true
   },
   "outputs": [],
   "source": [
    "Neural Networks Project - Credit Risks Analysis\n",
    "An experimental study about a neural network model aplication in a real world problem.\n",
    "\n",
    "Neural Networks - Minister by Germano Vasconcelos\n",
    "\n",
    "Team:\n",
    "\n",
    "Lucas Alves Rufno\n",
    "Rodrigo de Lima Oliveira\n",
    "Ullayne Fernandes Farias de Lima\n",
    "Vitor Jose da Silva Lima\n",
    "\n",
    "Emseble of Multilayer Perceptron\n",
    "Serie of experiments to evaluate the credit risks analysis using a avarage of classification from a  model\n",
    "\n",
    "Imports:\n",
    "Relevant libraries to solve the problem"
   ]
  }
 ],
 "metadata": {
  "kernelspec": {
   "display_name": "Python 3",
   "language": "python",
   "name": "python3"
  },
  "language_info": {
   "codemirror_mode": {
    "name": "ipython",
    "version": 3
   },
   "file_extension": ".py",
   "mimetype": "text/x-python",
   "name": "python",
   "nbconvert_exporter": "python",
   "pygments_lexer": "ipython3",
   "version": "3.6.3"
  }
 },
 "nbformat": 4,
 "nbformat_minor": 2
}
