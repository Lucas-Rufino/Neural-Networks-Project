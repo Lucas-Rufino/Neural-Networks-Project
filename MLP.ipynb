{
 "cells": [
  {
   "cell_type": "markdown",
   "metadata": {},
   "source": [
    "# Neural Networks Project - Credit Risks Analysis\n",
    "\n",
    "An experimental study about a neural network model aplication in a real world problem.\n",
    "\n",
    "Neural Networks - Minister by Germano Vasconcelos\n",
    "\n",
    "Team:  \n",
    "- Lucas Alves Rufno  \n",
    "- Rodrigo de Lima Oliveira  \n",
    "- Ullayne Fernandes Farias de Lima \n",
    "- Vitor Jose da Silva Lima\n",
    "\n",
    "## Multilayer Perceptron Experiments \n",
    "\n",
    "Serie of experiments to evaluate the credit risks analysis using a statistical model\n",
    "\n",
    "### Imports:\n",
    "Relevant libraries to solve the problem"
   ]
  },
  {
   "cell_type": "code",
   "execution_count": 7,
   "metadata": {},
   "outputs": [],
   "source": [
    "from sklearn.neural_network import MLPClassifier\n",
    "from scipy.stats import ks_2samp as ksTest\n",
    "from sklearn.utils import shuffle\n",
    "from sklearn import metrics\n",
    "import pandas as pd"
   ]
  },
  {
   "cell_type": "markdown",
   "metadata": {},
   "source": [
    "### Read dataset:\n",
    "Read file as .h5 in Pandas with respective keys and describe data partially."
   ]
  },
  {
   "cell_type": "code",
   "execution_count": 3,
   "metadata": {},
   "outputs": [],
   "source": [
    "tr = pd.read_hdf(\"datasets/repeat/Train.h5\", key='train')\n",
    "va = pd.read_hdf(\"datasets/repeat/Validation.h5\", key='validation')\n",
    "te = pd.read_hdf(\"datasets/repeat/Test.h5\", key='test')"
   ]
  },
  {
   "cell_type": "markdown",
   "metadata": {},
   "source": [
    "### Modify dataset:\n",
    "Modifying the dataset to only 2 sets (Train and Test). The validation set is splitter in the algorithm. "
   ]
  },
  {
   "cell_type": "code",
   "execution_count": 4,
   "metadata": {},
   "outputs": [],
   "source": [
    "tr = tr.append(va)\n",
    "tr = shuffle(tr)"
   ]
  },
  {
   "cell_type": "markdown",
   "metadata": {},
   "source": [
    "### Trainning model:\n",
    "Generate the statistical model based"
   ]
  },
  {
   "cell_type": "code",
   "execution_count": 15,
   "metadata": {},
   "outputs": [],
   "source": [
    "clf = MLPClassifier(\n",
    "    hidden_layer_sizes=(2000,),\n",
    "    solver='sgd',\n",
    "    activation='relu',\n",
    "    learning_rate='constant',\n",
    "    learning_rate_init=0.03,\n",
    "    early_stopping=True,\n",
    "    validation_fraction=0.1)\n",
    "clf.fit(tr.iloc[:,:-1], tr['IND_BOM_1_1'])\n",
    "rClass = clf.predict(te.iloc[:,:-1])\n",
    "rProba = clf.predict_proba(te.iloc[:,:-1])[:,1]"
   ]
  },
  {
   "cell_type": "markdown",
   "metadata": {},
   "source": [
    "### Evaluating model:\n",
    "Testing the statistical model"
   ]
  },
  {
   "cell_type": "code",
   "execution_count": 16,
   "metadata": {},
   "outputs": [
    {
     "name": "stdout",
     "output_type": "stream",
     "text": [
      "MSE: 0.22201866924001076\n",
      "KS Test: 0.6554502661925219\n",
      "ROC AUC: 0.6789338906564995\n",
      "Accuracy: 0.6346481942074863\n",
      "Precision, Recall and FScore:\n",
      "(0.7577152039735583, 0.6506413271866278, 0.7001079840723494)\n",
      "Confusion Matrix:\n",
      "[[20256 13268]\n",
      " [22280 41494]]\n"
     ]
    }
   ],
   "source": [
    "print('MSE:', metrics.mean_squared_error(te['IND_BOM_1_1'], rProba))\n",
    "print('KS Test:', ksTest(te['IND_BOM_1_1'], rProba)[0])\n",
    "print('ROC AUC:', metrics.roc_auc_score(te['IND_BOM_1_1'], rProba))\n",
    "print('Accuracy:', metrics.accuracy_score(te['IND_BOM_1_1'], rClass))\n",
    "print('Precision, Recall and FScore:')\n",
    "print(metrics.precision_recall_fscore_support(te['IND_BOM_1_1'], rClass, average='binary')[:-1])\n",
    "print('Confusion Matrix:')\n",
    "print(metrics.confusion_matrix(te['IND_BOM_1_1'], rClass))"
   ]
  },
  {
   "cell_type": "code",
   "execution_count": null,
   "metadata": {},
   "outputs": [],
   "source": []
  }
 ],
 "metadata": {
  "kernelspec": {
   "display_name": "Python 3",
   "language": "python",
   "name": "python3"
  },
  "language_info": {
   "codemirror_mode": {
    "name": "ipython",
    "version": 3
   },
   "file_extension": ".py",
   "mimetype": "text/x-python",
   "name": "python",
   "nbconvert_exporter": "python",
   "pygments_lexer": "ipython3",
   "version": "3.6.5"
  }
 },
 "nbformat": 4,
 "nbformat_minor": 2
}
